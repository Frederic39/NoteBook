{
 "cells": [
  {
   "cell_type": "markdown",
   "metadata": {
    "slideshow": {
     "slide_type": "slide"
    }
   },
   "source": [
    "# Tracé de la caratéristique d'un dipole.\n",
    "\n",
    "Cette activité permet de travailler sur la programmation dans le langage python. \n",
    "\n",
    "Activité 1 : quel est le comportement d'un dipole inconnu. \n",
    "Tracé de la caractéristique U=f(I)"
   ]
  },
  {
   "cell_type": "code",
   "execution_count": 1,
   "metadata": {
    "scrolled": true,
    "slideshow": {
     "slide_type": "slide"
    }
   },
   "outputs": [
    {
     "data": {
      "image/png": "[encoded data removed]",
      "text/plain": [
       "<Figure size 432x288 with 1 Axes>"
      ]
     },
     "metadata": {
      "needs_background": "light"
     },
     "output_type": "display_data"
    }
   ],
   "source": [
    "# -*- coding: utf-8-sig -*-\n",
    "## Caractéristique d'une résistance\n",
    "import numpy as np\n",
    "import matplotlib.pyplot as plt\n",
    "import scipy.stats as sc\n",
    "\n",
    "## Tableau de mesures\n",
    "U=np.array([0,0.5,1,1.5,2,2.5,3,3.5,4,4.5,5])\n",
    "I=np.array([0,0.011,0.021,0.032,0.043,0.053,0.064,0.074,0.085,0.096,0.106])\n",
    "\n",
    "## On place les points sur un graphique\n",
    "plt.scatter(I,U,marker='+',color='blue')\n",
    "\n",
    "##paramètres d'affichage du graphique\n",
    "plt.xlabel(\"I en A\")\n",
    "plt.ylabel(\"U en V\")\n",
    "plt.title(\"U=f(I)\")\n",
    "plt.grid(alpha=0.5,linestyle=':')\n",
    "\n",
    "plt.show()"
   ]
  },
  {
   "cell_type": "raw",
   "metadata": {
    "slideshow": {
     "slide_type": "slide"
    }
   },
   "source": [
    " Le nuage de point est compatible avec une fonction linéraire (ou affine). Elle est du type y= ax+b. Calculons ces valeurs :"
   ]
  },
  {
   "cell_type": "code",
   "execution_count": null,
   "metadata": {
    "slideshow": {
     "slide_type": "slide"
    }
   },
   "outputs": [],
   "source": [
    "## Modélisation\n",
    "droite=sc.linregress(I,U)\n",
    "coef_directeur=droite.slope\n",
    "ord_origine=droite.intercept\n",
    "\n",
    "print(\"Coefficient directeur a = \",round(coef_directeur,2))\n",
    "print(\"ordonnée à l'origine b =\", round(ord_origine,2))"
   ]
  },
  {
   "cell_type": "raw",
   "metadata": {
    "slideshow": {
     "slide_type": "slide"
    }
   },
   "source": [
    "La valeur de b est faible, il s'agit bien d'une fonction affine. Superposons le nuage de points et la fonction calculée : U = 47.I + 0"
   ]
  },
  {
   "cell_type": "code",
   "execution_count": null,
   "metadata": {
    "slideshow": {
     "slide_type": "slide"
    }
   },
   "outputs": [],
   "source": [
    "## Tracé de la droite de régression\n",
    "legende='équation ='+str(\"%.1f\"%(ord_origine))+' + '+str(\"%.0f\"%(coef_directeur))+\"×I\"\n",
    "modele_de_U=coef_directeur*I+ord_origine\n",
    "plt.plot(I,modele_de_U,color='red',label=legende)\n",
    "plt.scatter(I,U,marker='+',color='blue')\n",
    "\n",
    "plt.legend()\n",
    "plt.show()"
   ]
  }
 ],
 "metadata": {
  "celltoolbar": "Format de la Cellule Texte Brut",
  "kernelspec": {
   "display_name": "Python 3",
   "language": "python",
   "name": "python3"
  },
  "language_info": {
   "codemirror_mode": {
    "name": "ipython",
    "version": 3
   },
   "file_extension": ".py",
   "mimetype": "text/x-python",
   "name": "python",
   "nbconvert_exporter": "python",
   "pygments_lexer": "ipython3",
   "version": "3.7.6"
  }
 },
 "nbformat": 4,
 "nbformat_minor": 4
}
